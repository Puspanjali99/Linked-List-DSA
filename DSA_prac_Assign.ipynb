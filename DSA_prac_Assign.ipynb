{
  "nbformat": 4,
  "nbformat_minor": 0,
  "metadata": {
    "colab": {
      "provenance": []
    },
    "kernelspec": {
      "name": "python3",
      "display_name": "Python 3"
    },
    "language_info": {
      "name": "python"
    }
  },
  "cells": [
    {
      "cell_type": "markdown",
      "source": [
        "#Assignment Questions\n",
        "#DSA Practice Questions"
      ],
      "metadata": {
        "id": "zoF81kqAJ5ns"
      }
    },
    {
      "cell_type": "markdown",
      "source": [
        "#1. Define a double linked list  [ Will be done in the class ]\n",
        "A doubly linked list is a type of data structure that consists of a sequence of elements, each containing a reference to both the next and the previous elements in the sequence.\n",
        " This allows for efficient traversal in both forward and backward directions.\n",
        "\n",
        "Here's a basic implementation of a doubly linked list in Python:"
      ],
      "metadata": {
        "id": "FpG6090eKPUD"
      }
    },
    {
      "cell_type": "code",
      "source": [
        "'''Node Class\n",
        "First, we define a Node class that will represent each element in the list.\n",
        "\n",
        "'''\n",
        "class Node:\n",
        "    def __init__(self, data):\n",
        "        self.data = data  # The data stored in the node\n",
        "        self.prev = None  # Reference to the previous node in the list\n",
        "        self.next = None  # Reference to the next node in the list\n"
      ],
      "metadata": {
        "id": "th0VTrX1KIai"
      },
      "execution_count": 2,
      "outputs": []
    },
    {
      "cell_type": "code",
      "source": [
        "'''Doubly Linked List Class\n",
        "Next, we create the DoublyLinkedList class, which will manage the nodes and provide methods to manipulate the list.\n",
        "\n",
        "'''\n",
        "class DoublyLinkedList:\n",
        "    def __init__(self):\n",
        "        self.head = None  # The head (first node) of the list\n",
        "        self.tail = None  # The tail (last node) of the list\n",
        "\n",
        "    def append(self, data):\n",
        "        new_node = Node(data)\n",
        "\n",
        "        if self.head is None:  # If the list is empty\n",
        "            self.head = new_node\n",
        "            self.tail = new_node\n",
        "        else:\n",
        "            self.tail.next = new_node  # Link the new node after the current tail\n",
        "            new_node.prev = self.tail  # Link the current tail to the new node\n",
        "            self.tail = new_node  # Update the tail to the new node\n",
        "\n",
        "    def prepend(self, data):\n",
        "        new_node = Node(data)\n",
        "\n",
        "        if self.head is None:  # If the list is empty\n",
        "            self.head = new_node\n",
        "            self.tail = new_node\n",
        "        else:\n",
        "            new_node.next = self.head  # Link the new node before the current head\n",
        "            self.head.prev = new_node  # Link the current head to the new node\n",
        "            self.head = new_node  # Update the head to the new node\n",
        "\n",
        "    def delete(self, node):\n",
        "        if node.prev:  # If the node is not the first node\n",
        "            node.prev.next = node.next\n",
        "        else:  # If the node is the first node\n",
        "            self.head = node.next\n",
        "\n",
        "        if node.next:  # If the node is not the last node\n",
        "            node.next.prev = node.prev\n",
        "        else:  # If the node is the last node\n",
        "            self.tail = node.prev\n",
        "\n",
        "    def display_forward(self):\n",
        "        current = self.head\n",
        "        while current:\n",
        "            print(current.data, end=' ')\n",
        "            current = current.next\n",
        "        print()\n",
        "\n",
        "    def display_backward(self):\n",
        "        current = self.tail\n",
        "        while current:\n",
        "            print(current.data, end=' ')\n",
        "            current = current.prev\n",
        "        print()\n"
      ],
      "metadata": {
        "id": "JSm9_l1-KIdr"
      },
      "execution_count": 3,
      "outputs": []
    },
    {
      "cell_type": "markdown",
      "source": [
        "#Explanation\n",
        "Node Class: Each node stores data and has two pointers, prev and next, to connect to the previous and next nodes in the list.\n",
        "DoublyLinkedList Class:\n",
        "append(data): Adds a new node with the given data at the end of the list.\n",
        "prepend(data): Adds a new node with the given data at the beginning of the list.\n",
        "delete(node): Removes a specific node from the list.\n",
        "display_forward(): Traverses and prints the list from the head to the tail.\n",
        "display_backward(): Traverses and prints the list from the tail to the head.\n",
        "This class provides a basic foundation for implementing a doubly linked list with common operations."
      ],
      "metadata": {
        "id": "90_kT1KYLPjy"
      }
    },
    {
      "cell_type": "code",
      "source": [],
      "metadata": {
        "id": "A9fYO6RUKIgl"
      },
      "execution_count": null,
      "outputs": []
    },
    {
      "cell_type": "markdown",
      "source": [
        "#2. Write a function to reverse a linked list in-place"
      ],
      "metadata": {
        "id": "2Ui7ISkrLUPj"
      }
    },
    {
      "cell_type": "code",
      "source": [
        "class Node:\n",
        "    def __init__(self, data):\n",
        "        self.data = data  # The data stored in the node\n",
        "        self.prev = None  # Reference to the previous node in the list\n",
        "        self.next = None  # Reference to the next node in the list\n",
        "\n",
        "class DoublyLinkedList:\n",
        "    def __init__(self):\n",
        "        self.head = None  # The head (first node) of the list\n",
        "        self.tail = None  # The tail (last node) of the list\n",
        "\n",
        "    def append(self, data):\n",
        "        new_node = Node(data)\n",
        "\n",
        "        if self.head is None:  # If the list is empty\n",
        "            self.head = new_node\n",
        "            self.tail = new_node\n",
        "        else:\n",
        "            self.tail.next = new_node  # Link the new node after the current tail\n",
        "            new_node.prev = self.tail  # Link the current tail to the new node\n",
        "            self.tail = new_node  # Update the tail to the new node\n",
        "\n",
        "    def prepend(self, data):\n",
        "        new_node = Node(data)\n",
        "\n",
        "        if self.head is None:  # If the list is empty\n",
        "            self.head = new_node\n",
        "            self.tail = new_node\n",
        "        else:\n",
        "            new_node.next = self.head  # Link the new node before the current head\n",
        "            self.head.prev = new_node  # Link the current head to the new node\n",
        "            self.head = new_node  # Update the head to the new node\n",
        "\n",
        "    def delete(self, node):\n",
        "        if node.prev:  # If the node is not the first node\n",
        "            node.prev.next = node.next\n",
        "        else:  # If the node is the first node\n",
        "            self.head = node.next\n",
        "\n",
        "        if node.next:  # If the node is not the last node\n",
        "            node.next.prev = node.prev\n",
        "        else:  # If the node is the last node\n",
        "            self.tail = node.prev\n",
        "\n",
        "    def display_forward(self):\n",
        "        current = self.head\n",
        "        while current:\n",
        "            print(current.data, end=' ')\n",
        "            current = current.next\n",
        "        print()\n",
        "\n",
        "    def display_backward(self):\n",
        "        current = self.tail\n",
        "        while current:\n",
        "            print(current.data, end=' ')\n",
        "            current = current.prev\n",
        "        print()\n",
        "\n",
        "    def reverse(self):\n",
        "        current = self.head\n",
        "        temp = None\n",
        "\n",
        "        while current is not None:\n",
        "            temp = current.prev\n",
        "            current.prev = current.next\n",
        "            current.next = temp\n",
        "            current = current.prev\n",
        "\n",
        "        if temp is not None:\n",
        "            self.head = temp.prev\n",
        "\n",
        "# Example usage:\n",
        "dll = DoublyLinkedList()\n",
        "dll.append(1)\n",
        "dll.append(2)\n",
        "dll.append(3)\n",
        "\n",
        "print(\"Original list:\")\n",
        "dll.display_forward()  # Output: 1 2 3\n",
        "\n",
        "dll.reverse()\n",
        "\n",
        "print(\"Reversed list:\")\n",
        "dll.display_forward()  # Output: 3 2 1\n"
      ],
      "metadata": {
        "colab": {
          "base_uri": "https://localhost:8080/"
        },
        "id": "k0kPlgJEKImq",
        "outputId": "fa9417e4-753e-4044-9b7f-9c41ab420151"
      },
      "execution_count": 5,
      "outputs": [
        {
          "output_type": "stream",
          "name": "stdout",
          "text": [
            "Original list:\n",
            "1 2 3 \n",
            "Reversed list:\n",
            "3 2 1 \n"
          ]
        }
      ]
    },
    {
      "cell_type": "markdown",
      "source": [
        "#What This Code Does:\n",
        "Node Class: Represents each element in the doubly linked list.\n",
        "DoublyLinkedList Class: Manages the linked list with methods to append, prepend, delete nodes, display the list in forward and backward order, and reverse the list in place.\n",
        "Example Usage: Demonstrates how to use the DoublyLinkedList class, including creating a list, displaying it, reversing it, and displaying the reversed list."
      ],
      "metadata": {
        "id": "U05srHZaMPEF"
      }
    },
    {
      "cell_type": "code",
      "source": [],
      "metadata": {
        "id": "CnJXLAU3KIpz"
      },
      "execution_count": null,
      "outputs": []
    },
    {
      "cell_type": "markdown",
      "source": [
        "#3. Detect cycle in a linked list\n",
        "To detect a cycle in a singly linked list, you can use Floyd's Cycle Detection Algorithm, also known as the \"Tortoise and Hare\" algorithm. This algorithm uses two pointers that move at different speeds through the list. If there is a cycle, the two pointers will eventually meet. If there is no cycle, the faster pointer will reach the end of the list.\n",
        "\n"
      ],
      "metadata": {
        "id": "16KbRwOsMYNU"
      }
    },
    {
      "cell_type": "code",
      "source": [
        "class Node:\n",
        "    def __init__(self, data):\n",
        "        self.data = data  # The data stored in the node\n",
        "        self.next = None  # Reference to the next node in the list\n",
        "\n",
        "class LinkedList:\n",
        "    def __init__(self):\n",
        "        self.head = None  # The head (first node) of the list\n",
        "\n",
        "    def append(self, data):\n",
        "        new_node = Node(data)\n",
        "        if self.head is None:  # If the list is empty\n",
        "            self.head = new_node\n",
        "        else:\n",
        "            current = self.head\n",
        "            while current.next:\n",
        "                current = current.next\n",
        "            current.next = new_node\n",
        "\n",
        "    def detect_cycle(self):\n",
        "        slow = self.head\n",
        "        fast = self.head\n",
        "\n",
        "        while fast and fast.next:\n",
        "            slow = slow.next  # Move slow pointer by one step\n",
        "            fast = fast.next.next  # Move fast pointer by two steps\n",
        "\n",
        "            if slow == fast:\n",
        "                return True  # Cycle detected\n",
        "\n",
        "        return False  # No cycle detected\n",
        "\n",
        "# Example usage:\n",
        "ll = LinkedList()\n",
        "ll.append(1)\n",
        "ll.append(2)\n",
        "ll.append(3)\n",
        "ll.append(4)\n",
        "\n",
        "# Creating a cycle for testing: linking the last node to the second node\n",
        "ll.head.next.next.next.next = ll.head.next\n",
        "\n",
        "if ll.detect_cycle():\n",
        "    print(\"Cycle detected\")\n",
        "else:\n",
        "    print(\"No cycle detected\")\n"
      ],
      "metadata": {
        "colab": {
          "base_uri": "https://localhost:8080/"
        },
        "id": "Brndur90KItL",
        "outputId": "7bdea502-c048-4b5b-c049-38c3d6de3d05"
      },
      "execution_count": 6,
      "outputs": [
        {
          "output_type": "stream",
          "name": "stdout",
          "text": [
            "Cycle detected\n"
          ]
        }
      ]
    },
    {
      "cell_type": "markdown",
      "source": [
        "#Explanation:\n",
        "Node Class: Defines the structure of each node in the linked list.\n",
        "\n",
        "\n",
        "LinkedList Class:\n",
        "append(data): Adds nodes to the end of the list.\n",
        "\n",
        "detect_cycle(): Uses Floyd's Cycle Detection Algorithm to check for a cycle.\n",
        "\n",
        "\n",
        "Example Usage:\n",
        "Creates a linked list with nodes containing data 1, 2, 3, and 4.\n",
        "Introduces a cycle by making the next of the last node point to the second node.\n",
        "Checks if the cycle is detected.\n"
      ],
      "metadata": {
        "id": "TALpY5kvNHiW"
      }
    },
    {
      "cell_type": "code",
      "source": [],
      "metadata": {
        "id": "kLOelgGxKIwv"
      },
      "execution_count": null,
      "outputs": []
    },
    {
      "cell_type": "markdown",
      "source": [
        "#4. Merge two sorted linked list into one\n",
        "1->3->5->6->null and 2->4->6->8->null should be merged to make\n",
        "\n",
        "1->2->3->4->5->6->7->8"
      ],
      "metadata": {
        "id": "3Zz1W2LqNihn"
      }
    },
    {
      "cell_type": "code",
      "source": [
        "class Node:\n",
        "    def __init__(self, data):\n",
        "        self.data = data  # The data stored in the node\n",
        "        self.next = None  # Reference to the next node in the list\n",
        "\n",
        "class LinkedList:\n",
        "    def __init__(self):\n",
        "        self.head = None  # The head (first node) of the list\n",
        "\n",
        "    def append(self, data):\n",
        "        new_node = Node(data)\n",
        "        if self.head is None:\n",
        "            self.head = new_node\n",
        "        else:\n",
        "            current = self.head\n",
        "            while current.next:\n",
        "                current = current.next\n",
        "            current.next = new_node\n",
        "\n",
        "    def display(self):\n",
        "        current = self.head\n",
        "        while current:\n",
        "            print(current.data, end=\" -> \")\n",
        "            current = current.next\n",
        "        print(\"null\")\n",
        "\n",
        "def merge_sorted_lists(list1, list2):\n",
        "    dummy = Node(0)  # Temporary node to build the merged list\n",
        "    tail = dummy\n",
        "\n",
        "    l1 = list1.head\n",
        "    l2 = list2.head\n",
        "\n",
        "    while l1 and l2:\n",
        "        if l1.data < l2.data:\n",
        "            tail.next = l1\n",
        "            l1 = l1.next\n",
        "        else:\n",
        "            tail.next = l2\n",
        "            l2 = l2.next\n",
        "        tail = tail.next\n",
        "\n",
        "    # Attach the remaining nodes\n",
        "    if l1:\n",
        "        tail.next = l1\n",
        "    elif l2:\n",
        "        tail.next = l2\n",
        "\n",
        "    merged_list = LinkedList()\n",
        "    merged_list.head = dummy.next  # The head of the merged list is the next node of dummy\n",
        "    return merged_list\n",
        "\n",
        "# Example usage:\n",
        "list1 = LinkedList()\n",
        "list1.append(1)\n",
        "list1.append(3)\n",
        "list1.append(5)\n",
        "list1.append(6)\n",
        "\n",
        "list2 = LinkedList()\n",
        "list2.append(2)\n",
        "list2.append(4)\n",
        "list2.append(6)\n",
        "list2.append(8)\n",
        "\n",
        "print(\"List 1:\")\n",
        "list1.display()\n",
        "\n",
        "print(\"List 2:\")\n",
        "list2.display()\n",
        "\n",
        "merged_list = merge_sorted_lists(list1, list2)\n",
        "\n",
        "print(\"Merged List:\")\n",
        "merged_list.display()\n"
      ],
      "metadata": {
        "colab": {
          "base_uri": "https://localhost:8080/"
        },
        "id": "2gLq6SfTKIzt",
        "outputId": "4884f1fd-8b05-424b-b9a3-1c3cdf80ae74"
      },
      "execution_count": 7,
      "outputs": [
        {
          "output_type": "stream",
          "name": "stdout",
          "text": [
            "List 1:\n",
            "1 -> 3 -> 5 -> 6 -> null\n",
            "List 2:\n",
            "2 -> 4 -> 6 -> 8 -> null\n",
            "Merged List:\n",
            "1 -> 2 -> 3 -> 4 -> 5 -> 6 -> 6 -> 8 -> null\n"
          ]
        }
      ]
    },
    {
      "cell_type": "markdown",
      "source": [
        "#Explanation:\n",
        "Node Class: Defines each node in the linked list.\n",
        "LinkedList Class:\n",
        "append(data): Adds a new node with the given data to the end of the list.\n",
        "\n",
        "display(): Prints the list in the format data -> data -> ... -> null.\n",
        "\n",
        "merge_sorted_lists(list1, list2):\n",
        "\n",
        "Merges two sorted linked lists into one.\n",
        "Uses a dummy node to simplify the merge logic.\n",
        "Iterates through both lists, attaching the smaller node to the merged list.\n",
        "If one list is exhausted, appends the remaining nodes from the other list.\n"
      ],
      "metadata": {
        "id": "skR83vY5PFzT"
      }
    },
    {
      "cell_type": "code",
      "source": [],
      "metadata": {
        "id": "8n06JdeQKI2-"
      },
      "execution_count": null,
      "outputs": []
    },
    {
      "cell_type": "markdown",
      "source": [
        "#5.Write a function to remove nth node from the end in a linked list\n",
        "1->2->3->4->5->6, removing 2nd node from end will return 1->2->3->4->6"
      ],
      "metadata": {
        "id": "1Z0I89PcPOie"
      }
    },
    {
      "cell_type": "code",
      "source": [
        "class Node:\n",
        "    def __init__(self, data):\n",
        "        self.data = data  # The data stored in the node\n",
        "        self.next = None  # Reference to the next node in the list\n",
        "\n",
        "class LinkedList:\n",
        "    def __init__(self):\n",
        "        self.head = None  # The head (first node) of the list\n",
        "\n",
        "    def append(self, data):\n",
        "        new_node = Node(data)\n",
        "        if self.head is None:\n",
        "            self.head = new_node\n",
        "        else:\n",
        "            current = self.head\n",
        "            while current.next:\n",
        "                current = current.next\n",
        "            current.next = new_node\n",
        "\n",
        "    def display(self):\n",
        "        current = self.head\n",
        "        while current:\n",
        "            print(current.data, end=\" -> \")\n",
        "            current = current.next\n",
        "        print(\"null\")\n",
        "\n",
        "    def remove_nth_from_end(self, n):\n",
        "        dummy = Node(0)\n",
        "        dummy.next = self.head\n",
        "        first = dummy\n",
        "        second = dummy\n",
        "\n",
        "        # Move the first pointer so there's a gap of n between first and second\n",
        "        for _ in range(n + 1):\n",
        "            if first is None:\n",
        "                return  # n is greater than the length of the list\n",
        "            first = first.next\n",
        "\n",
        "        # Move both pointers until first reaches the end\n",
        "        while first:\n",
        "            first = first.next\n",
        "            second = second.next\n",
        "\n",
        "        # Remove the nth node from end\n",
        "        second.next = second.next.next\n",
        "\n",
        "        self.head = dummy.next  # Update head in case the first node was removed\n",
        "\n",
        "# Example usage:\n",
        "ll = LinkedList()\n",
        "ll.append(1)\n",
        "ll.append(2)\n",
        "ll.append(3)\n",
        "ll.append(4)\n",
        "ll.append(5)\n",
        "\n",
        "print(\"Original list:\")\n",
        "ll.display()\n",
        "\n",
        "# Take input from user\n",
        "n = int(input(\"Enter the position of the node from the end to remove: \"))\n",
        "ll.remove_nth_from_end(n)\n",
        "\n",
        "print(f\"List after removing {n}th node from the end:\")\n",
        "ll.display()\n"
      ],
      "metadata": {
        "colab": {
          "base_uri": "https://localhost:8080/"
        },
        "id": "l1nS9MarKI6H",
        "outputId": "e9b337b9-45f0-47ec-c7ab-ef73870e7b26"
      },
      "execution_count": 9,
      "outputs": [
        {
          "output_type": "stream",
          "name": "stdout",
          "text": [
            "Original list:\n",
            "1 -> 2 -> 3 -> 4 -> 5 -> null\n",
            "Enter the position of the node from the end to remove: 2\n",
            "List after removing 2th node from the end:\n",
            "1 -> 2 -> 3 -> 5 -> null\n"
          ]
        }
      ]
    },
    {
      "cell_type": "markdown",
      "source": [
        "#6.Remove duplicates from a sorted linked list\n",
        "1->2->3->3->4->4->4->5  should be changed to 1->2->3->4->5\n",
        "\n",
        "To remove duplicates from a sorted linked list, you can traverse the list and compare each node's data with the next node. If they are the same, you remove the next node. This approach works because the list is sorted, so duplicates will always be adjacent."
      ],
      "metadata": {
        "id": "Zk_s5r-iQ1-l"
      }
    },
    {
      "cell_type": "code",
      "source": [
        "class Node:\n",
        "    def __init__(self, data):\n",
        "        self.data = data  # The data stored in the node\n",
        "        self.next = None  # Reference to the next node in the list\n",
        "\n",
        "class LinkedList:\n",
        "    def __init__(self):\n",
        "        self.head = None  # The head (first node) of the list\n",
        "\n",
        "    def append(self, data):\n",
        "        new_node = Node(data)\n",
        "        if self.head is None:\n",
        "            self.head = new_node\n",
        "        else:\n",
        "            current = self.head\n",
        "            while current.next:\n",
        "                current = current.next\n",
        "            current.next = new_node\n",
        "\n",
        "    def display(self):\n",
        "        current = self.head\n",
        "        while current:\n",
        "            print(current.data, end=\" -> \")\n",
        "            current = current.next\n",
        "        print(\"null\")\n",
        "\n",
        "    def remove_duplicates(self):\n",
        "        current = self.head\n",
        "\n",
        "        while current and current.next:\n",
        "            if current.data == current.next.data:\n",
        "                current.next = current.next.next  # Skip the duplicate node\n",
        "            else:\n",
        "                current = current.next  # Move to the next node\n",
        "\n",
        "# Example usage:\n",
        "ll = LinkedList()\n",
        "ll.append(1)\n",
        "ll.append(2)\n",
        "ll.append(3)\n",
        "ll.append(3)\n",
        "ll.append(4)\n",
        "ll.append(4)\n",
        "ll.append(4)\n",
        "ll.append(5)\n",
        "\n",
        "print(\"Original list:\")\n",
        "ll.display()\n",
        "\n",
        "ll.remove_duplicates()\n",
        "\n",
        "print(\"List after removing duplicates:\")\n",
        "ll.display()\n"
      ],
      "metadata": {
        "colab": {
          "base_uri": "https://localhost:8080/"
        },
        "id": "8MS7nJH0KI9R",
        "outputId": "dcb5572c-cf89-438c-9500-52f51131ba13"
      },
      "execution_count": 10,
      "outputs": [
        {
          "output_type": "stream",
          "name": "stdout",
          "text": [
            "Original list:\n",
            "1 -> 2 -> 3 -> 3 -> 4 -> 4 -> 4 -> 5 -> null\n",
            "List after removing duplicates:\n",
            "1 -> 2 -> 3 -> 4 -> 5 -> null\n"
          ]
        }
      ]
    },
    {
      "cell_type": "markdown",
      "source": [
        "#7.Find the intersection of the two linked lists\n",
        "1->2->3->4->8->6->9  5->1->6->7  , intersection 1->6\n",
        "\n",
        "To find the intersection of two singly linked lists, we need to determine the point where the two lists converge, meaning the nodes are the same in terms of memory addresses.\n",
        "\n",
        "\n",
        "\n",
        "Calculate the length of both linked lists.\n",
        "\n",
        "Advance the pointer for the longer list by the difference in lengths so that both pointers are equidistant from the end of the lists.\n",
        "\n",
        "Traverse both lists simultaneously until the nodes are the same, indicating the intersection."
      ],
      "metadata": {
        "id": "dmP8zvLgRXGt"
      }
    },
    {
      "cell_type": "code",
      "source": [
        "class Node:\n",
        "    def __init__(self, data):\n",
        "        self.data = data  # The data stored in the node\n",
        "        self.next = None  # Reference to the next node in the list\n",
        "\n",
        "class LinkedList:\n",
        "    def __init__(self):\n",
        "        self.head = None  # The head (first node) of the list\n",
        "\n",
        "    def append(self, data):\n",
        "        new_node = Node(data)\n",
        "        if self.head is None:\n",
        "            self.head = new_node\n",
        "        else:\n",
        "            current = self.head\n",
        "            while current.next:\n",
        "                current = current.next\n",
        "            current.next = new_node\n",
        "\n",
        "    def display(self):\n",
        "        current = self.head\n",
        "        while current:\n",
        "            print(current.data, end=\" -> \")\n",
        "            current = current.next\n",
        "        print(\"null\")\n",
        "\n",
        "    def length(self):\n",
        "        current = self.head\n",
        "        count = 0\n",
        "        while current:\n",
        "            count += 1\n",
        "            current = current.next\n",
        "        return count\n",
        "\n",
        "def find_intersection(list1, list2):\n",
        "    len1 = list1.length()\n",
        "    len2 = list2.length()\n",
        "\n",
        "    # Determine the longer and shorter list\n",
        "    longer = list1.head if len1 > len2 else list2.head\n",
        "    shorter = list2.head if len1 > len2 else list1.head\n",
        "\n",
        "    # Advance the pointer for the longer list by the difference in lengths\n",
        "    for _ in range(abs(len1 - len2)):\n",
        "        longer = longer.next\n",
        "\n",
        "    # Move both pointers until they intersect\n",
        "    while longer and shorter:\n",
        "        if longer == shorter:\n",
        "            return longer  # Intersection point found\n",
        "        longer = longer.next\n",
        "        shorter = shorter.next\n",
        "\n",
        "    return None  # No intersection found\n",
        "\n",
        "# Example usage:\n",
        "ll1 = LinkedList()\n",
        "ll1.append(1)\n",
        "ll1.append(2)\n",
        "ll1.append(3)\n",
        "ll1.append(4)\n",
        "\n",
        "ll2 = LinkedList()\n",
        "ll2.append(5)\n",
        "ll2.append(1)\n",
        "\n",
        "# Creating intersection manually\n",
        "intersect_node = Node(6)\n",
        "ll1.head.next.next.next.next = intersect_node  # Adding node 6 to list 1\n",
        "ll2.head.next.next = intersect_node  # Adding node 6 to list 2\n",
        "\n",
        "intersect_node.next = Node(7)\n",
        "intersect_node.next.next = Node(8)\n",
        "\n",
        "print(\"List 1:\")\n",
        "ll1.display()\n",
        "\n",
        "print(\"List 2:\")\n",
        "ll2.display()\n",
        "\n",
        "intersection = find_intersection(ll1, ll2)\n",
        "\n",
        "if intersection:\n",
        "    print(f\"Intersection found at node with data: {intersection.data}\")\n",
        "else:\n",
        "    print(\"No intersection found\")\n"
      ],
      "metadata": {
        "colab": {
          "base_uri": "https://localhost:8080/"
        },
        "id": "_aom06aDKJAb",
        "outputId": "56ee6400-b729-43b0-ad9c-29165016176b"
      },
      "execution_count": 11,
      "outputs": [
        {
          "output_type": "stream",
          "name": "stdout",
          "text": [
            "List 1:\n",
            "1 -> 2 -> 3 -> 4 -> 6 -> 7 -> 8 -> null\n",
            "List 2:\n",
            "5 -> 1 -> 6 -> 7 -> 8 -> null\n",
            "Intersection found at node with data: 6\n"
          ]
        }
      ]
    },
    {
      "cell_type": "code",
      "source": [],
      "metadata": {
        "id": "CAaKJKrhKJDf"
      },
      "execution_count": null,
      "outputs": []
    },
    {
      "cell_type": "markdown",
      "source": [
        "#8.Rotate a linked list by k positions to the right\n",
        " 1->2->3->4->8->6->9 , after rotating for 2 times becomes , 3->4->8->6->9->1->2\n",
        "\n",
        "\n",
        "\n",
        " To rotate a linked list to the right by k positions, you can follow these\n",
        "\n",
        "Calculate the length of the linked list.\n",
        "\n",
        "Find the new head of the list after rotation. The new head will be at position length - k % length.\n",
        "\n",
        "Rearrange the pointers to perform the rotation.\n"
      ],
      "metadata": {
        "id": "dXOn878xSE5x"
      }
    },
    {
      "cell_type": "code",
      "source": [
        "class Node:\n",
        "    def __init__(self, data):\n",
        "        self.data = data\n",
        "        self.next = None\n",
        "\n",
        "class LinkedList:\n",
        "    def __init__(self):\n",
        "        self.head = None\n",
        "\n",
        "    def append(self, data):\n",
        "        new_node = Node(data)\n",
        "        if self.head is None:\n",
        "            self.head = new_node\n",
        "        else:\n",
        "            current = self.head\n",
        "            while current.next:\n",
        "                current = current.next\n",
        "            current.next = new_node\n",
        "\n",
        "    def display(self):\n",
        "        current = self.head\n",
        "        while current:\n",
        "            print(current.data, end=\" -> \")\n",
        "            current = current.next\n",
        "        print(\"null\")\n",
        "\n",
        "    def rotate_left(self, k):\n",
        "        if not self.head or k <= 0:\n",
        "            return\n",
        "\n",
        "        # Step 1: Find the length of the list and the last node\n",
        "        length = 1\n",
        "        last_node = self.head\n",
        "        while last_node.next:\n",
        "            last_node = last_node.next\n",
        "            length += 1\n",
        "\n",
        "        # Step 2: Compute effective rotations\n",
        "        k = k % length\n",
        "        if k == 0:\n",
        "            return\n",
        "\n",
        "        # Step 3: Find the new tail (which will become the last node after rotation)\n",
        "        new_tail = self.head\n",
        "        for _ in range(length - k - 1):\n",
        "            new_tail = new_tail.next\n",
        "\n",
        "        # Step 4: Find the new head\n",
        "        new_head = new_tail.next\n",
        "\n",
        "        # Step 5: Rearrange the pointers\n",
        "        last_node.next = self.head  # Connect the end of the list to the start\n",
        "        new_tail.next = None        # Set the new tail's next to None\n",
        "        self.head = new_head        # Update the head to the new head\n",
        "\n",
        "# Example usage:\n",
        "ll = LinkedList()\n",
        "ll.append(1)\n",
        "ll.append(2)\n",
        "ll.append(3)\n",
        "ll.append(4)\n",
        "ll.append(8)\n",
        "ll.append(6)\n",
        "ll.append(9)\n",
        "\n",
        "print(\"Original list:\")\n",
        "ll.display()\n",
        "\n",
        "k = 2\n",
        "ll.rotate_left(k)\n",
        "\n",
        "print(f\"List after rotating {k} positions to the Right:\")\n",
        "ll.display()\n"
      ],
      "metadata": {
        "colab": {
          "base_uri": "https://localhost:8080/"
        },
        "id": "EmdjN4WrTaHV",
        "outputId": "adab1116-2f48-4983-87eb-85fdf1185a8f"
      },
      "execution_count": 24,
      "outputs": [
        {
          "output_type": "stream",
          "name": "stdout",
          "text": [
            "Original list:\n",
            "1 -> 2 -> 3 -> 4 -> 8 -> 6 -> 9 -> null\n",
            "List after rotating 2 positions to the Right:\n",
            "6 -> 9 -> 1 -> 2 -> 3 -> 4 -> 8 -> null\n"
          ]
        }
      ]
    },
    {
      "cell_type": "markdown",
      "source": [
        "#9.Add Two Numbers Represented by Linked Lists:\n",
        "Given two non-empty linked lists representing two non-negative integers, where the digits are stored in\n",
        "reverse order, add the two numbers and return it as a linked list.\n",
        "\n",
        ">Answer\n",
        "To add two numbers represented by linked lists, where each node contains a single digit and the digits are stored in reverse order, follow these steps:\n",
        "\n",
        "1.Initialize Pointers: Use pointers to traverse both linked lists and a carry variable to manage any overflow from summing digits.\n",
        "\n",
        "2.Traverse Both Lists: Sum the digits from both lists along with any carry from the previous digit.\n",
        "\n",
        "3.Handle Overflow: If the sum is greater than 9, manage the carry for the next digit.\n",
        "\n",
        "4.Create New Nodes: For each digit of the result, create a new node in the result linked list.\n",
        "\n",
        "5.Handle Remaining Nodes: If one list is longer, continue processing the remaining nodes."
      ],
      "metadata": {
        "id": "1QgUjKo2Wnx4"
      }
    },
    {
      "cell_type": "code",
      "source": [
        "class Node:\n",
        "    def __init__(self, data):\n",
        "        self.data = data\n",
        "        self.next = None\n",
        "\n",
        "class LinkedList:\n",
        "    def __init__(self):\n",
        "        self.head = None\n",
        "\n",
        "    def append(self, data):\n",
        "        new_node = Node(data)\n",
        "        if self.head is None:\n",
        "            self.head = new_node\n",
        "        else:\n",
        "            current = self.head\n",
        "            while current.next:\n",
        "                current = current.next\n",
        "            current.next = new_node\n",
        "\n",
        "    def display(self):\n",
        "        current = self.head\n",
        "        while current:\n",
        "            print(current.data, end=\" -> \")\n",
        "            current = current.next\n",
        "        print(\"null\")\n",
        "\n",
        "    def add_two_numbers(self, l1, l2):\n",
        "        dummy = Node(0)\n",
        "        p, q, current = l1, l2, dummy\n",
        "        carry = 0\n",
        "\n",
        "        while p is not None or q is not None:\n",
        "            x = p.data if p is not None else 0\n",
        "            y = q.data if q is not None else 0\n",
        "            total = x + y + carry\n",
        "\n",
        "            carry = total // 10\n",
        "            current.next = Node(total % 10)\n",
        "            current = current.next\n",
        "\n",
        "            if p is not None:\n",
        "                p = p.next\n",
        "            if q is not None:\n",
        "                q = q.next\n",
        "\n",
        "        if carry > 0:\n",
        "            current.next = Node(carry)\n",
        "\n",
        "        return dummy.next\n",
        "\n",
        "# Example usage:\n",
        "ll1 = LinkedList()\n",
        "ll2 = LinkedList()\n",
        "\n",
        "# First number: 342 (stored as 2 -> 4 -> 3)\n",
        "ll1.append(2)\n",
        "ll1.append(4)\n",
        "ll1.append(3)\n",
        "\n",
        "# Second number: 465 (stored as 5 -> 6 -> 4)\n",
        "ll2.append(5)\n",
        "ll2.append(6)\n",
        "ll2.append(4)\n",
        "\n",
        "print(\"First number:\")\n",
        "ll1.display()\n",
        "\n",
        "print(\"Second number:\")\n",
        "ll2.display()\n",
        "\n",
        "result_list = LinkedList()\n",
        "result_list.head = result_list.add_two_numbers(ll1.head, ll2.head)\n",
        "\n",
        "print(\"Sum of two numbers:\")\n",
        "result_list.display()\n"
      ],
      "metadata": {
        "colab": {
          "base_uri": "https://localhost:8080/"
        },
        "id": "m7enLi47KJS3",
        "outputId": "3974c21c-93b1-485c-d41e-5a1acf2a5857"
      },
      "execution_count": 27,
      "outputs": [
        {
          "output_type": "stream",
          "name": "stdout",
          "text": [
            "First number:\n",
            "2 -> 4 -> 3 -> null\n",
            "Second number:\n",
            "5 -> 6 -> 4 -> null\n",
            "Sum of two numbers:\n",
            "7 -> 0 -> 8 -> null\n"
          ]
        }
      ]
    },
    {
      "cell_type": "markdown",
      "source": [
        "#10.Clone a Linked List with next and Random Pointer\n",
        "Given a linked list of size N where each node has two links: one pointer points to the next node and the\n",
        "second pointer points to any node in the list. The task is to create a clone of this linked list in O(N) time.\n",
        "\n",
        "\n",
        "Note: The pointer pointing to the next node is ‘next‘ pointer and the one pointing to an arbitrary node is\n",
        "called ‘arbit’ pointer as it can point to any arbitrary node in the linked list."
      ],
      "metadata": {
        "id": "bFrHbLluX-i8"
      }
    },
    {
      "cell_type": "code",
      "source": [
        "class Node:\n",
        "    def __init__(self, data):\n",
        "        self.data = data\n",
        "        self.next = None\n",
        "        self.arbit = None\n",
        "\n",
        "class LinkedList:\n",
        "    def __init__(self):\n",
        "        self.head = None\n",
        "\n",
        "    def append(self, data):\n",
        "        new_node = Node(data)\n",
        "        if not self.head:\n",
        "            self.head = new_node\n",
        "        else:\n",
        "            current = self.head\n",
        "            while current.next:\n",
        "                current = current.next\n",
        "            current.next = new_node\n",
        "\n",
        "    def set_arbit(self, node, arbit_node):\n",
        "        # Set the arbitrary pointer (random pointer)\n",
        "        if node:\n",
        "            node.arbit = arbit_node\n",
        "\n",
        "    def display(self):\n",
        "        current = self.head\n",
        "        while current:\n",
        "            arbit_data = current.arbit.data if current.arbit else None\n",
        "            print(f\"Node data: {current.data}, Arbit points to: {arbit_data}\", end=\" -> \")\n",
        "            current = current.next\n",
        "        print(\"null\")\n",
        "\n",
        "    def clone_list(self):\n",
        "        if not self.head:\n",
        "            return None\n",
        "\n",
        "        # Step 1: Insert cloned nodes\n",
        "        current = self.head\n",
        "        while current:\n",
        "            clone = Node(current.data)\n",
        "            clone.next = current.next\n",
        "            current.next = clone\n",
        "            current = clone.next\n",
        "\n",
        "        # Step 2: Copy arbitrary pointers\n",
        "        current = self.head\n",
        "        while current:\n",
        "            clone = current.next\n",
        "            clone.arbit = current.arbit.next if current.arbit else None\n",
        "            current = clone.next\n",
        "\n",
        "        # Step 3: Separate the cloned list from the original list\n",
        "        original = self.head\n",
        "        cloned_head = self.head.next\n",
        "        clone = cloned_head\n",
        "        while original:\n",
        "            original.next = original.next.next\n",
        "            clone.next = clone.next.next if clone.next else None\n",
        "            original = original.next\n",
        "            clone = clone.next\n",
        "\n",
        "        return cloned_head\n",
        "\n",
        "# Example usage:\n",
        "ll = LinkedList()\n",
        "ll.append(1)\n",
        "ll.append(2)\n",
        "ll.append(3)\n",
        "ll.append(4)\n",
        "ll.append(5)\n",
        "\n",
        "# Setting up the arbitrary pointers (random pointers)\n",
        "# Example: 1 -> 2 -> 3 -> 4 -> 5\n",
        "# Arbitrary pointers: 1.arbit -> 3, 2.arbit -> 1, 3.arbit -> 5, 4.arbit -> None, 5.arbit -> 2\n",
        "ll.set_arbit(ll.head, ll.head.next.next)          # 1 -> 3\n",
        "ll.set_arbit(ll.head.next, ll.head)              # 2 -> 1\n",
        "ll.set_arbit(ll.head.next.next, ll.head.next.next.next.next) # 3 -> 5\n",
        "ll.set_arbit(ll.head.next.next.next, None)       # 4 -> None\n",
        "ll.set_arbit(ll.head.next.next.next.next, ll.head.next) # 5 -> 2\n",
        "\n",
        "print(\"Original list with arbit pointers:\")\n",
        "ll.display()\n",
        "\n",
        "cloned_list = LinkedList()\n",
        "cloned_list.head = ll.clone_list()\n",
        "\n",
        "print(\"Cloned list with arbit pointers:\")\n",
        "cloned_list.display()\n"
      ],
      "metadata": {
        "colab": {
          "base_uri": "https://localhost:8080/"
        },
        "id": "lyqPo1dZYUMm",
        "outputId": "d8684a93-2077-4308-c4f0-be82366a80dc"
      },
      "execution_count": 28,
      "outputs": [
        {
          "output_type": "stream",
          "name": "stdout",
          "text": [
            "Original list with arbit pointers:\n",
            "Node data: 1, Arbit points to: 3 -> Node data: 2, Arbit points to: 1 -> Node data: 3, Arbit points to: 5 -> Node data: 4, Arbit points to: None -> Node data: 5, Arbit points to: 2 -> null\n",
            "Cloned list with arbit pointers:\n",
            "Node data: 1, Arbit points to: 3 -> Node data: 2, Arbit points to: 1 -> Node data: 3, Arbit points to: 5 -> Node data: 4, Arbit points to: None -> Node data: 5, Arbit points to: 2 -> null\n"
          ]
        }
      ]
    },
    {
      "cell_type": "code",
      "source": [],
      "metadata": {
        "id": "Pt21BnuVXdzc"
      },
      "execution_count": null,
      "outputs": []
    }
  ]
}